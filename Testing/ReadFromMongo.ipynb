{
 "cells": [
  {
   "cell_type": "code",
   "execution_count": 25,
   "metadata": {},
   "outputs": [
    {
     "name": "stdout",
     "output_type": "stream",
     "text": [
      ".env Loaded: True\n"
     ]
    }
   ],
   "source": [
    "from dotenv import load_dotenv\n",
    "from pathlib import Path\n",
    "import requests\n",
    "import pymongo\n",
    "import json, os, subprocess, datetime\n",
    "\n",
    "env_path = Path('\\\\\\\\SUSMANSERVER\\\\Active Server Drive\\\\HomeAutomation') / '.env'\n",
    "print(f'.env Loaded: {load_dotenv(dotenv_path=env_path)}')"
   ]
  },
  {
   "cell_type": "code",
   "execution_count": 26,
   "metadata": {},
   "outputs": [],
   "source": [
    "myclient = pymongo.MongoClient(\"mongodb://susmanserver:27017/\")\n",
    "mydb = myclient[\"Google_Nest\"]\n",
    "mycol = mydb[\"PubSub_Events\"]"
   ]
  },
  {
   "cell_type": "code",
   "execution_count": 58,
   "metadata": {},
   "outputs": [
    {
     "data": {
      "text/plain": [
       "581"
      ]
     },
     "execution_count": 58,
     "metadata": {},
     "output_type": "execute_result"
    }
   ],
   "source": [
    "pubsub_data = mydb.get_collection(\"PubSub_Events\")\n",
    "pubsub_data.count_documents({})"
   ]
  },
  {
   "cell_type": "code",
   "execution_count": 59,
   "metadata": {},
   "outputs": [
    {
     "name": "stdout",
     "output_type": "stream",
     "text": [
      "{'_id': ObjectId('5fcc154d6c37f9ac42d8c361'), 'eventId': '1204ca79-d695-45e9-974f-654f2d723212', 'timestamp': '2020-12-05T23:18:35.777Z', 'resourceUpdate': {'name': 'enterprises/a26b53d9-1ef1-4dcb-957a-27c9318ebf75/devices/AVPHwEv_vYDtYJ-bArGsF7PYvIU97x_JRKVfo9Sb3jwD5ulk7P40sLl6QmwWCjtkRYG_9U43OxpnXpIifDJTk5XAJ8-2Kg', 'events': {'sdm_devices_events_CameraMotion_Motion': {'eventSessionId': 'AVPHwEuLhiD4ggUOPSDQhH75psJfHAdzEIrlJluTeW9VW9CgLJTgk5OcOrJ3MRcQkms4jz3PrWgPUpVe-nCUNVh387pDPA', 'eventId': 'CiQA2vuxrxeYvloDwvloGldZM7romFBqdCTf-Sbrj-e94fM0BngSwAEATD4Xp7gJ4CKi1mUWhHXs8H29F9owzMSfxo5IpALoALrlH17qx4LUXGM_K2NPlHRFNbdEGnVtz29oFZwLkX_nr73wY_wR5dN9hnnXcmDbjpp071165DuIoKuRnpSh5bYUcBdl-EZejYJfEFAZawD1m0XB3siu0buN7eSqwrWjdSWAJX-a4LBU1wMRqqkaRIrh7XL3lGiGZqJ6xll-3faF_hvhyoJBPKbfq6D-yErCtvu4ODwtfEOpKsZ4eCeTsqA'}}}, 'userId': 'AVPHwEtzfFWzTEEswb9UsdAsf3V6ZpYF1vDkbXtkWYvb'}\n"
     ]
    }
   ],
   "source": [
    "results = pubsub_data.find().sort('timestamp', -1)\n",
    "print(results[0])"
   ]
  },
  {
   "cell_type": "code",
   "execution_count": null,
   "metadata": {},
   "outputs": [],
   "source": []
  },
  {
   "cell_type": "code",
   "execution_count": null,
   "metadata": {},
   "outputs": [],
   "source": []
  }
 ],
 "metadata": {
  "kernelspec": {
   "display_name": "Python 3",
   "language": "python",
   "name": "python3"
  },
  "language_info": {
   "codemirror_mode": {
    "name": "ipython",
    "version": 3
   },
   "file_extension": ".py",
   "mimetype": "text/x-python",
   "name": "python",
   "nbconvert_exporter": "python",
   "pygments_lexer": "ipython3",
   "version": "3.9.0"
  }
 },
 "nbformat": 4,
 "nbformat_minor": 4
}
