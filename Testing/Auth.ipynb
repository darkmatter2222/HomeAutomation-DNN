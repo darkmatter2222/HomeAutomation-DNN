{
 "cells": [
  {
   "cell_type": "code",
   "execution_count": 1,
   "metadata": {},
   "outputs": [],
   "source": [
    "import requests\n",
    "import json, os, subprocess, datetime\n",
    "\n",
    "root_home_automation_directory = 'N:\\\\HomeAutomation'\n",
    "gcp_oauth_file_name = 'GCP_OAuth.json'\n",
    "auth_code_file_name = 'Auth_Code.json'\n",
    "device_access_file_name = 'Device_Access_Project_ID.json'\n",
    "\n",
    "gcp_oauth_path = f'{root_home_automation_directory}\\\\{gcp_oauth_file_name}'\n",
    "auth_code_path = f'{root_home_automation_directory}\\\\{auth_code_file_name}'\n",
    "device_access_path = f'{root_home_automation_directory}\\\\{device_access_file_name}'\n",
    "\n",
    "gcp_oauth_json = {}\n",
    "with open(gcp_oauth_path) as f:\n",
    "    gcp_oauth_json = json.load(f)\n",
    "    \n",
    "device_access_json = {}\n",
    "with open(device_access_path) as f:\n",
    "    device_access_json = json.load(f)\n",
    "\n",
    "auth_code_json = None\n",
    "if os.path.isfile(auth_code_path):\n",
    "    with open(auth_code_path) as f:\n",
    "        auth_code_json = json.load(f)"
   ]
  },
  {
   "cell_type": "code",
   "execution_count": 93,
   "metadata": {},
   "outputs": [
    {
     "data": {
      "text/plain": [
       "0"
      ]
     },
     "execution_count": 93,
     "metadata": {},
     "output_type": "execute_result"
    }
   ],
   "source": [
    "# Write and execute bat file to get auth code\n",
    "# take the value of 'code' from the result url and store it in Auth_Code.json as {'code':'<TheCode>'}\n",
    "url = f'https://nestservices.google.com/partnerconnections/{device_access_json[\"project-id\"]}/auth?\\\n",
    "redirect_uri=https://www.google.com&\\\n",
    "access_type=offline&\\\n",
    "prompt=consent&\\\n",
    "client_id={gcp_oauth_json[\"web\"][\"client_id\"]}&\\\n",
    "response_type=code&\\\n",
    "scope=https://www.googleapis.com/auth/sdm.service'\n",
    "\n",
    "request_permission_file_name = 'request_permission.bat'\n",
    "\n",
    "request_permission_path = f'{root_home_automation_directory}\\\\{request_permission_file_name}'\n",
    "\n",
    "bat_file = open(request_permission_path, 'w') \n",
    "record = f'start \"\" \"{url}\"'\n",
    "bat_file.write(record) \n",
    "bat_file.close() \n",
    "\n",
    "subprocess.call([request_permission_path])"
   ]
  },
  {
   "cell_type": "code",
   "execution_count": 94,
   "metadata": {},
   "outputs": [],
   "source": [
    "# Get tokens, Only egt one chance\n",
    "auth_code_json = None\n",
    "if os.path.isfile(auth_code_path):\n",
    "    with open(auth_code_path) as f:\n",
    "        auth_code_json = json.load(f)\n",
    "\n",
    "url = f'https://www.googleapis.com/oauth2/v4/token?client_id={gcp_oauth_json[\"web\"][\"client_id\"]}&client_secret={gcp_oauth_json[\"web\"][\"client_secret\"]}&code={auth_code_json[\"code\"]}&grant_type=authorization_code&redirect_uri=https://www.google.com'\n",
    "response = requests.post(url=url)"
   ]
  },
  {
   "cell_type": "code",
   "execution_count": 110,
   "metadata": {},
   "outputs": [],
   "source": [
    "token_response = json.loads((response.text))\n",
    "token_response['assigned'] = datetime.datetime.strptime(response.headers['Date'], '%a, %d %b %Y %H:%M:%S %Z').strftime('%a, %d %b %Y %H:%M:%S %Z')\n",
    "token_response['expires'] = (datetime.datetime.strptime(response.headers['Date'], '%a, %d %b %Y %H:%M:%S %Z') + datetime.timedelta(seconds=token_response['expires_in'])).strftime('%a, %d %b %Y %H:%M:%S %Z')\n",
    "#del my_dict['key']\n",
    "\n",
    "tokens_file_name = 'token.json'\n",
    "active_tokens_file_name = 'active_token.json'\n",
    "\n",
    "tokens_path = f'{root_home_automation_directory}\\\\{tokens_file_name}'\n",
    "active_tokens_path = f'{root_home_automation_directory}\\\\{active_tokens_file_name}'\n",
    "\n",
    "token_file = open(tokens_path, 'w') \n",
    "record = json.dumps(token_response)\n",
    "token_file.write(record) \n",
    "token_file.close() \n",
    "\n",
    "token_file = open(active_tokens_path, 'w') \n",
    "record = json.dumps(token_response)\n",
    "token_file.write(record) \n",
    "token_file.close() "
   ]
  },
  {
   "cell_type": "code",
   "execution_count": 2,
   "metadata": {},
   "outputs": [],
   "source": [
    "# refresh\n",
    "tokens_file_name = 'token.json'\n",
    "active_tokens_file_name = 'active_token.json'\n",
    "\n",
    "tokens_path = f'{root_home_automation_directory}\\\\{tokens_file_name}'\n",
    "active_tokens_path = f'{root_home_automation_directory}\\\\{active_tokens_file_name}'\n",
    "\n",
    "token_json = None\n",
    "if os.path.isfile(tokens_path):\n",
    "    with open(tokens_path) as f:\n",
    "        token_json = json.load(f)\n",
    "\n",
    "url = f'https://www.googleapis.com/oauth2/v4/token?client_id={gcp_oauth_json[\"web\"][\"client_id\"]}&client_secret={gcp_oauth_json[\"web\"][\"client_secret\"]}&refresh_token={token_json[\"refresh_token\"]}&grant_type=refresh_token'\n",
    "response = requests.post(url=url)\n",
    "\n",
    "token_response = json.loads((response.text))\n",
    "token_response['assigned'] = datetime.datetime.strptime(response.headers['Date'], '%a, %d %b %Y %H:%M:%S %Z').strftime('%a, %d %b %Y %H:%M:%S %Z')\n",
    "token_response['expires'] = (datetime.datetime.strptime(response.headers['Date'], '%a, %d %b %Y %H:%M:%S %Z') + datetime.timedelta(seconds=token_response['expires_in'])).strftime('%a, %d %b %Y %H:%M:%S %Z')\n",
    "\n",
    "token_file = open(active_tokens_path, 'w') \n",
    "record = json.dumps(token_response)\n",
    "token_file.write(record) \n",
    "token_file.close() "
   ]
  },
  {
   "cell_type": "code",
   "execution_count": null,
   "metadata": {},
   "outputs": [],
   "source": []
  },
  {
   "cell_type": "code",
   "execution_count": null,
   "metadata": {},
   "outputs": [],
   "source": []
  }
 ],
 "metadata": {
  "kernelspec": {
   "display_name": "Python 3",
   "language": "python",
   "name": "python3"
  },
  "language_info": {
   "codemirror_mode": {
    "name": "ipython",
    "version": 3
   },
   "file_extension": ".py",
   "mimetype": "text/x-python",
   "name": "python",
   "nbconvert_exporter": "python",
   "pygments_lexer": "ipython3",
   "version": "3.9.0"
  }
 },
 "nbformat": 4,
 "nbformat_minor": 4
}
