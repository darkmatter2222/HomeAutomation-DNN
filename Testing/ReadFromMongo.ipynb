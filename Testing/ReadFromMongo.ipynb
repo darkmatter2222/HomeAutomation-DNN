{
 "cells": [
  {
   "cell_type": "code",
   "execution_count": null,
   "metadata": {},
   "outputs": [],
   "source": [
    "from dotenv import load_dotenv\n",
    "from pathlib import Path\n",
    "import requests\n",
    "from datetime import datetime, timezone, timedelta\n",
    "from pymongo import MongoClient\n",
    "from bson.objectid import ObjectId\n",
    "import json, os, subprocess\n",
    "\n",
    "env_path = Path('\\\\\\\\SUSMANSERVER\\\\Active Server Drive\\\\HomeAutomation') / '.env'\n",
    "print(f'.env Loaded: {load_dotenv(dotenv_path=env_path)}')"
   ]
  },
  {
   "cell_type": "code",
   "execution_count": null,
   "metadata": {},
   "outputs": [],
   "source": [
    "db_name = 'OAuth2_Manager'\n",
    "collection_name = 'Active_OAuth2'\n",
    "my_client = MongoClient('mongodb://susmanserver:27017',\n",
    "                        username=os.getenv(\"OAuth2_Manager_Username\"),\n",
    "                        password=os.getenv(\"OAuth2_Manager_Password\"),\n",
    "                        authSource=db_name,\n",
    "                        authMechanism='SCRAM-SHA-256')\n",
    "my_db = my_client[db_name]\n",
    "my_col = my_db[collection_name]"
   ]
  },
  {
   "cell_type": "code",
   "execution_count": null,
   "metadata": {},
   "outputs": [],
   "source": [
    "token = my_col.find({'_id':ObjectId('5fd61e859532201850007cdf')})[0]"
   ]
  },
  {
   "cell_type": "code",
   "execution_count": null,
   "metadata": {},
   "outputs": [],
   "source": [
    "url = f'https://smartdevicemanagement.googleapis.com/v1/enterprises/{os.getenv(\"Google_Nest_Prodect_ID\")}/devices'\n",
    "headers = {'Content-Type': 'application/json', 'Authorization': f'Bearer {token[\"access_token\"]}'}\n",
    "response = requests.get(url=url,headers=headers)"
   ]
  },
  {
   "cell_type": "code",
   "execution_count": null,
   "metadata": {},
   "outputs": [],
   "source": [
    "name_type_dict = {}\n",
    "response_json = json.loads(response.text)\n",
    "for device in response_json['devices']:\n",
    "    name_type_dict[device['name']] = device['type'].replace('.','_')"
   ]
  },
  {
   "cell_type": "code",
   "execution_count": null,
   "metadata": {},
   "outputs": [],
   "source": [
    "my_client = MongoClient('mongodb://susmanserver:27017',\n",
    "                        username=os.getenv(\"Google_Nest_Username\"),\n",
    "                        password=os.getenv(\"Google_Nest_Password\"),\n",
    "                        authSource='Google_Nest',\n",
    "                        authMechanism='SCRAM-SHA-256')\n",
    "my_db = my_client[\"Google_Nest\"]\n",
    "my_col = my_db[\"PubSub_Events\"]"
   ]
  },
  {
   "cell_type": "code",
   "execution_count": null,
   "metadata": {},
   "outputs": [],
   "source": [
    "missing_type_records = my_col.find({\"resourceUpdate.type\": {'$exists': True}}).sort('timestamp',-1)\n",
    "missing_type_records[0]"
   ]
  },
  {
   "cell_type": "code",
   "execution_count": null,
   "metadata": {},
   "outputs": [],
   "source": [
    "deviceID = missing_type_records[0]['resourceUpdate']['name']\n",
    "eventID = missing_type_records[0]['resourceUpdate']['events']['sdm_devices_events_CameraSound_Sound']['eventId']\n",
    "print(deviceID)\n",
    "print(eventID)"
   ]
  },
  {
   "cell_type": "code",
   "execution_count": null,
   "metadata": {},
   "outputs": [],
   "source": [
    "url = f'https://smartdevicemanagement.googleapis.com/v1/{deviceID}:executeCommand'\n",
    "headers = {'Content-Type': 'application/json', 'Authorization': f'Bearer {token[\"access_token\"]}'}\n",
    "data = {\"command\" : \"sdm.devices.commands.CameraEventImage.GenerateImage\",\"params\" : {\"eventId\" : eventID}}\n",
    "response = requests.post(url=url,headers=headers,data=json.dumps(data))\n",
    "print(response.text)"
   ]
  },
  {
   "cell_type": "code",
   "execution_count": null,
   "metadata": {},
   "outputs": [],
   "source": [
    "for record in missing_type_records:\n",
    "    my_query = {'_id': record['_id']}\n",
    "    new_values = {\"$set\": {\"resourceUpdate.type\": name_type_dict[record['resourceUpdate']['name']]}}\n",
    "    my_col.update_one(my_query, new_values)"
   ]
  },
  {
   "cell_type": "code",
   "execution_count": null,
   "metadata": {},
   "outputs": [],
   "source": []
  }
 ],
 "metadata": {
  "kernelspec": {
   "display_name": "Python 3",
   "language": "python",
   "name": "python3"
  },
  "language_info": {
   "codemirror_mode": {
    "name": "ipython",
    "version": 3
   },
   "file_extension": ".py",
   "mimetype": "text/x-python",
   "name": "python",
   "nbconvert_exporter": "python",
   "pygments_lexer": "ipython3",
   "version": "3.9.0"
  }
 },
 "nbformat": 4,
 "nbformat_minor": 4
}
