{
 "cells": [
  {
   "cell_type": "code",
   "execution_count": 52,
   "metadata": {},
   "outputs": [],
   "source": [
    "import json\n",
    "import os\n",
    "import sys\n",
    "import requests\n",
    "from pathlib import Path\n",
    "from datetime import datetime, timezone, timedelta\n",
    "from dotenv import load_dotenv\n",
    "from pymongo import MongoClient\n",
    "from bson.objectid import ObjectId"
   ]
  },
  {
   "cell_type": "code",
   "execution_count": 39,
   "metadata": {},
   "outputs": [],
   "source": [
    "target_env_path = '/home/pi/AHomeAutomation-DNN'  # default linux\n",
    "if os.name == 'nt':\n",
    "    target_env_path = '\\\\\\\\SUSMANSERVER\\\\Active Server Drive\\\\HomeAutomation' # Windows\n",
    "else:\n",
    "    sys.path.append('/home/pi/AHomeAutomation-DNN')  # add this to the path\n",
    "\n",
    "env_path = Path(target_env_path) / '.env'\n",
    "load_dotenv(dotenv_path=env_path)\n",
    "\n",
    "db_name = 'OAuth2_Manager'\n",
    "collection_name = 'Active_OAuth2'\n",
    "my_client = MongoClient('mongodb://susmanserver:27017',\n",
    "                        username=os.getenv(\"OAuth2_Manager_Username\"),\n",
    "                        password=os.getenv(\"OAuth2_Manager_Password\"),\n",
    "                        authSource=db_name,\n",
    "                        authMechanism='SCRAM-SHA-256')\n",
    "my_db = my_client[db_name]\n",
    "my_col = my_db[collection_name]"
   ]
  },
  {
   "cell_type": "markdown",
   "metadata": {},
   "source": [
    "## Find all that epire in next 5 minutes"
   ]
  },
  {
   "cell_type": "code",
   "execution_count": 91,
   "metadata": {},
   "outputs": [],
   "source": [
    "refresh_cutoff_utc = datetime.now(timezone.utc) + timedelta(minutes=5)\n",
    "refresh_cutoff_utc_epoch = refresh_cutoff_utc.timestamp()\n",
    "connections_needing_refresh = my_col.find({'expires_at': {\"$lt\": refresh_cutoff_utc_epoch}})"
   ]
  },
  {
   "cell_type": "markdown",
   "metadata": {},
   "source": [
    "## Perform Refresh"
   ]
  },
  {
   "cell_type": "code",
   "execution_count": 92,
   "metadata": {},
   "outputs": [],
   "source": [
    "for connection in connections_needing_refresh:\n",
    "    payload = {'client_id':connection['client_id'], 'client_secret':connection['client_secret'], 'refresh_token':connection['refresh_token'], 'grant_type':'refresh_token'}\n",
    "    response =  requests.post(connection['token_uri'], params=payload)\n",
    "    \n",
    "    refresh_response = json.loads((response.text))\n",
    "    \n",
    "    new_experation = (datetime.now(timezone.utc) + timedelta(seconds=refresh_response['expires_in'])).timestamp()\n",
    "    \n",
    "    my_query = { '_id': connection['_id'] }\n",
    "    new_values = { \"$set\": { \"access_token\": refresh_response['access_token'], 'expires_in': refresh_response['expires_in'], 'expires_at': new_experation } }\n",
    "\n",
    "    my_col.update_one(my_query, new_values)"
   ]
  },
  {
   "cell_type": "code",
   "execution_count": null,
   "metadata": {},
   "outputs": [],
   "source": []
  }
 ],
 "metadata": {
  "kernelspec": {
   "display_name": "Python 3",
   "language": "python",
   "name": "python3"
  },
  "language_info": {
   "codemirror_mode": {
    "name": "ipython",
    "version": 3
   },
   "file_extension": ".py",
   "mimetype": "text/x-python",
   "name": "python",
   "nbconvert_exporter": "python",
   "pygments_lexer": "ipython3",
   "version": "3.9.0"
  }
 },
 "nbformat": 4,
 "nbformat_minor": 4
}
