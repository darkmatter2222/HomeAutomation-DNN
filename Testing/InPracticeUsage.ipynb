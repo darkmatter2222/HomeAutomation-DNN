{
 "cells": [
  {
   "cell_type": "markdown",
   "metadata": {},
   "source": [
    "## Initialize"
   ]
  },
  {
   "cell_type": "code",
   "execution_count": 1,
   "metadata": {},
   "outputs": [
    {
     "name": "stdout",
     "output_type": "stream",
     "text": [
      ".env Loaded: True\n"
     ]
    }
   ],
   "source": [
    "from dotenv import load_dotenv\n",
    "from pathlib import Path\n",
    "import requests\n",
    "import json, os, subprocess, datetime\n",
    "\n",
    "env_path = Path('\\\\\\\\SUSMANSERVER\\\\Active Server Drive\\\\HomeAutomation') / '.env'\n",
    "print(f'.env Loaded: {load_dotenv(dotenv_path=env_path)}')"
   ]
  },
  {
   "cell_type": "code",
   "execution_count": 2,
   "metadata": {},
   "outputs": [],
   "source": [
    "import pymongo\n",
    "\n",
    "myclient = pymongo.MongoClient(\"mongodb://susmanserver:27017/\")\n",
    "mydb = myclient[\"Google_Nest\"]\n",
    "mycol = mydb[\"PubSub_Events\"]\n",
    "\n",
    "def termsubscription():\n",
    "    print('Timer expired, closing...')\n",
    "    future.cancel()\n",
    "\n",
    "        \n",
    "def callback(message):\n",
    "    try:\n",
    "        #print(message.data.decode('UTF-8'))\n",
    "        x = mycol.insert_one(json.loads(message.data.decode('UTF-8').replace('.','xDOTx')))\n",
    "        print(f'result{x}')\n",
    "    except Exception as e:\n",
    "        print(message.data.decode('UTF-8'))\n",
    "        print(message)\n",
    "    try:\n",
    "        message.ack()\n",
    "        print('ack sent')\n",
    "    except Exception as e:\n",
    "        print(e)"
   ]
  },
  {
   "cell_type": "code",
   "execution_count": null,
   "metadata": {},
   "outputs": [
    {
     "name": "stdout",
     "output_type": "stream",
     "text": [
      "is subscriber running? True\n",
      "result<pymongo.results.InsertOneResult object at 0x0000027F159D5A80>\n",
      "ack sent\n",
      "result<pymongo.results.InsertOneResult object at 0x0000027F159D5940>\n",
      "ack sent\n",
      "result<pymongo.results.InsertOneResult object at 0x0000027F15991180>\n",
      "ack sent\n",
      "result<pymongo.results.InsertOneResult object at 0x0000027F159D59C0>\n",
      "ack sent\n"
     ]
    }
   ],
   "source": [
    "from concurrent.futures import TimeoutError\n",
    "from google.cloud import pubsub_v1\n",
    "from google.oauth2 import service_account\n",
    "from google.cloud import pubsub_v1\n",
    "import threading \n",
    "\n",
    "credentials = service_account.Credentials.from_service_account_file(os.getenv('Google_Nest_Creds_File_Location'))\n",
    "\n",
    "subscriber = pubsub_v1.SubscriberClient(credentials=credentials)\n",
    "subscription_name = os.getenv('Google_PubSub_Subscription_Name') #projects/<Project Name>/subscriptions/<Something you Chose>\n",
    "\n",
    "future = subscriber.subscribe(subscription_name, callback)\n",
    "\n",
    "print(f'is subscriber running? {future.running()}')\n",
    "\n",
    "timer = threading.Timer(50000.0, termsubscription) \n",
    "timer.start() \n",
    "\n",
    "try:\n",
    "    future.result()\n",
    "except KeyboardInterrupt:\n",
    "    future.cancel()\n",
    "except Exception as e:\n",
    "    print(e)\n",
    "    future.cancel()"
   ]
  },
  {
   "cell_type": "code",
   "execution_count": null,
   "metadata": {},
   "outputs": [],
   "source": []
  },
  {
   "cell_type": "code",
   "execution_count": null,
   "metadata": {},
   "outputs": [],
   "source": []
  },
  {
   "cell_type": "code",
   "execution_count": null,
   "metadata": {},
   "outputs": [],
   "source": []
  }
 ],
 "metadata": {
  "kernelspec": {
   "display_name": "Python 3",
   "language": "python",
   "name": "python3"
  },
  "language_info": {
   "codemirror_mode": {
    "name": "ipython",
    "version": 3
   },
   "file_extension": ".py",
   "mimetype": "text/x-python",
   "name": "python",
   "nbconvert_exporter": "python",
   "pygments_lexer": "ipython3",
   "version": "3.9.0"
  }
 },
 "nbformat": 4,
 "nbformat_minor": 4
}
