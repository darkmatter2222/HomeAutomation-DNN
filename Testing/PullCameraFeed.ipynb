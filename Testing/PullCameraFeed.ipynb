{
 "cells": [
  {
   "cell_type": "code",
   "execution_count": 6,
   "metadata": {},
   "outputs": [],
   "source": [
    "import requests\n",
    "import json, os, subprocess, datetime"
   ]
  },
  {
   "cell_type": "code",
   "execution_count": 14,
   "metadata": {},
   "outputs": [],
   "source": [
    "root_home_automation_directory = 'N:\\\\HomeAutomation'\n",
    "active_tokens_file_name = 'active_token.json'\n",
    "device_access_file_name = 'Device_Access_Project_ID.json'\n",
    "active_tokens_path = f'{root_home_automation_directory}\\\\{active_tokens_file_name}'\n",
    "device_access_path = f'{root_home_automation_directory}\\\\{device_access_file_name}'\n",
    "\n",
    "token_json = None\n",
    "if os.path.isfile(active_tokens_path):\n",
    "    with open(active_tokens_path) as f:\n",
    "        token_json = json.load(f)\n",
    "\n",
    "device_access_json = {}\n",
    "with open(device_access_path) as f:\n",
    "    device_access_json = json.load(f)"
   ]
  },
  {
   "cell_type": "code",
   "execution_count": 20,
   "metadata": {},
   "outputs": [],
   "source": [
    "url = f'https://smartdevicemanagement.googleapis.com/v1/enterprises/{device_access_json[\"project-id\"]}/structures'\n",
    "headers = {'Content-Type': 'application/json', 'Authorization': f'Bearer {token_json[\"access_token\"]}'}\n",
    "\n",
    "response = requests.get(url=url,headers=headers)"
   ]
  },
  {
   "cell_type": "code",
   "execution_count": 21,
   "metadata": {},
   "outputs": [],
   "source": [
    "url = f'https://smartdevicemanagement.googleapis.com/v1/enterprises/{device_access_json[\"project-id\"]}/devices'\n",
    "\n",
    "response = requests.get(url=url,headers=headers)"
   ]
  },
  {
   "cell_type": "code",
   "execution_count": 29,
   "metadata": {},
   "outputs": [],
   "source": [
    "url = f'https://smartdevicemanagement.googleapis.com/v1/enterprises/{device_access_json[\"project-id\"]}/devices/{}:executeCommand'\n",
    "data = {\"command\" : \"sdm.devices.commands.CameraLiveStream.GenerateRtspStream\",\"params\" : {}}\n",
    "response = requests.post(url=url,headers=headers,data=json.dumps(data))\n"
   ]
  },
  {
   "cell_type": "code",
   "execution_count": null,
   "metadata": {},
   "outputs": [],
   "source": []
  },
  {
   "cell_type": "code",
   "execution_count": null,
   "metadata": {},
   "outputs": [],
   "source": []
  }
 ],
 "metadata": {
  "kernelspec": {
   "display_name": "Python 3",
   "language": "python",
   "name": "python3"
  },
  "language_info": {
   "codemirror_mode": {
    "name": "ipython",
    "version": 3
   },
   "file_extension": ".py",
   "mimetype": "text/x-python",
   "name": "python",
   "nbconvert_exporter": "python",
   "pygments_lexer": "ipython3",
   "version": "3.9.0"
  }
 },
 "nbformat": 4,
 "nbformat_minor": 4
}
